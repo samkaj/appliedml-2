{
  "cells": [
    {
      "cell_type": "markdown",
      "metadata": {
        "id": "QeE2dNpfB-qg"
      },
      "source": [
        "## Step 1: Reading the data\n",
        "\n",
        "We begin by downloading the data.\n",
        "\n",
        "We read the data from the train and test datasets and set the Y values to the income (`target`), and the rest in the X values."
      ]
    },
    {
      "cell_type": "code",
      "execution_count": null,
      "metadata": {
        "colab": {
          "base_uri": "https://localhost:8080/"
        },
        "id": "1FPC_pnF_6iP",
        "outputId": "b44e0075-7e2b-462b-be1a-74d16b5ceb9f"
      },
      "outputs": [],
      "source": [
        "!wget https://www.cse.chalmers.se/~richajo/dit866/data/adult_test.csv\n",
        "!wget https://www.cse.chalmers.se/~richajo/dit866/data/adult_train.csv"
      ]
    },
    {
      "cell_type": "code",
      "execution_count": null,
      "metadata": {
        "id": "v4cf4DngCIG9"
      },
      "outputs": [],
      "source": [
        "import pandas as pd\n",
        "# Read the CSV file.\n",
        "test = pd.read_csv('adult_test.csv')\n",
        "train = pd.read_csv('adult_train.csv')\n",
        "\n",
        "cols = [\"age\",\"workclass\",\"education\",\"education-num\",\"marital-status\",\"occupation\",\"relationship\",\"race\",\"sex\",\"capital-gain\",\"capital-loss\",\"hours-per-week\",\"native-country\",\"target\"]\n",
        "test = test[cols]\n",
        "train = train[cols]\n",
        "X_test = test.drop(\"target\", axis=1)\n",
        "X_train = train.drop(\"target\", axis=1)\n",
        "Y_test = test[\"target\"]\n",
        "Y_train = train[\"target\"]"
      ]
    },
    {
      "cell_type": "code",
      "execution_count": null,
      "metadata": {
        "colab": {
          "base_uri": "https://localhost:8080/",
          "height": 206
        },
        "id": "cvV-nhSRDozO",
        "outputId": "c8ceea3d-8725-419a-933e-1b646c929b83"
      },
      "outputs": [],
      "source": [
        "X_test.head()"
      ]
    },
    {
      "cell_type": "markdown",
      "metadata": {
        "id": "MKyt_IKgIN4w"
      },
      "source": [
        "### Step 2: Enconding the features as numbers\n",
        "\n",
        "We now use one-hot encoding of the features to convert them to numerical values so we can work with them in scikit."
      ]
    },
    {
      "cell_type": "code",
      "execution_count": null,
      "metadata": {
        "colab": {
          "base_uri": "https://localhost:8080/"
        },
        "id": "kV8lWRnuHZqa",
        "outputId": "113dd56f-2271-4211-a549-44410cef8e31"
      },
      "outputs": [],
      "source": [
        "x_test_dict = X_test.to_dict('records')\n",
        "x_train_dict = X_train.to_dict(\"records\")\n",
        "y_test_dict = Y_test.to_dict()\n",
        "y_train_dict = Y_train.to_dict()"
      ]
    },
    {
      "cell_type": "markdown",
      "metadata": {
        "id": "VfvDNvxWOP2o"
      },
      "source": [
        "Now we encode the dicts"
      ]
    },
    {
      "cell_type": "code",
      "execution_count": null,
      "metadata": {
        "id": "TrdOxSXxIfyS"
      },
      "outputs": [],
      "source": [
        "from sklearn.feature_extraction import DictVectorizer\n",
        "from sklearn.preprocessing import LabelEncoder\n",
        "dv = DictVectorizer()\n",
        "X_train_encoded = dv.fit_transform(x_train_dict)\n",
        "# Y_train_encoded = dv.fit_transform(y_train_dict)\n",
        "\n",
        "X_test_encoded = dv.transform(x_test_dict)\n",
        "# Y_test_encoded = dv.transform(y_test_dict)\n",
        "label_encoder = LabelEncoder()\n",
        "Y_train_encoded = label_encoder.fit_transform(Y_train)\n",
        "Y_test_encoded = label_encoder.transform(Y_test)"
      ]
    },
    {
      "cell_type": "code",
      "execution_count": null,
      "metadata": {
        "colab": {
          "base_uri": "https://localhost:8080/"
        },
        "id": "z8RjUgcQQlm1",
        "outputId": "bf1d700c-ac9e-46cf-bb02-323138265cb9"
      },
      "outputs": [],
      "source": [
        "import sklearn.ensemble as ensemble\n",
        "from sklearn.model_selection import cross_val_score\n",
        "import numpy as np\n",
        "\n",
        "gb_clf = ensemble.GradientBoostingClassifier(max_depth=10)\n",
        "gb_cross_val = cross_val_score(gb_clf, X_train_encoded, Y_train_encoded)\n",
        "print(np.mean(gb_cross_val))"
      ]
    },
    {
      "cell_type": "markdown",
      "metadata": {
        "id": "oQuxPByPPuq3"
      },
      "source": [
        "### Step 3: Combining the steps\n",
        "\n",
        "Now it is time to do some more preprocessing, and we make a pipeline consisting of our vectorization followed by a RandomForestClassifier."
      ]
    },
    {
      "cell_type": "code",
      "execution_count": null,
      "metadata": {
        "colab": {
          "base_uri": "https://localhost:8080/",
          "height": 125
        },
        "id": "5G0GI96QQTvW",
        "outputId": "93a43e52-7661-4dd9-855e-e6c2414ee744"
      },
      "outputs": [],
      "source": [
        "from sklearn.pipeline import make_pipeline\n",
        "from sklearn.ensemble import GradientBoostingClassifier\n",
        "from sklearn.tree import DecisionTreeClassifier\n",
        "\n",
        "pipeline = make_pipeline(\n",
        "  DictVectorizer(),\n",
        "  DecisionTreeClassifier ()\n",
        ")\n",
        "\n",
        "pipeline.fit(x_train_dict, Y_train_encoded)"
      ]
    },
    {
      "cell_type": "code",
      "execution_count": null,
      "metadata": {
        "colab": {
          "base_uri": "https://localhost:8080/"
        },
        "id": "tjga4dzPWZu4",
        "outputId": "fca5ba2b-22f2-4281-fd85-2bdd1567a923"
      },
      "outputs": [],
      "source": [
        "from sklearn.model_selection import cross_val_score\n",
        "\n",
        "\n",
        "scores = cross_val_score(pipeline, x_test_dict, Y_test_encoded, cv=5)\n",
        "print(\"Cross-validation scores:\", scores)\n",
        "print(\"Average score:\", np.mean(scores))"
      ]
    },
    {
      "cell_type": "markdown",
      "metadata": {
        "id": "y1Udk04wcclV"
      },
      "source": [
        "## Task 2: Decision trees and random forests\n",
        "\n",
        "We now investigate the performance of classifiers with regards to the maxmimum depth of the tree.\n",
        "\n",
        "We test for depths `1..12` with a pipeline using a `DecisionTreeClassifier`."
      ]
    },
    {
      "cell_type": "code",
      "execution_count": null,
      "metadata": {
        "colab": {
          "base_uri": "https://localhost:8080/"
        },
        "id": "BWyUpy_3Zc4k",
        "outputId": "21a030b8-e4c2-42f5-cf3b-22c558b098bb"
      },
      "outputs": [],
      "source": [
        "from sklearn.tree import DecisionTreeClassifier\n",
        "\n",
        "total_scores = []\n",
        "for i in range(1, 12):\n",
        "  pipeline = make_pipeline(\n",
        "    DictVectorizer(),\n",
        "    DecisionTreeClassifier(max_depth=i)\n",
        "  )\n",
        "  pipeline.fit(x_train_dict, Y_train_encoded)\n",
        "  scores = cross_val_score(pipeline, x_test_dict, Y_test_encoded, cv=5)\n",
        "  total_scores.append({\"scores\": scores, \"avg_score\": np.mean(scores)})\n",
        "\n",
        "\n",
        "print(total_scores)"
      ]
    },
    {
      "cell_type": "markdown",
      "metadata": {
        "id": "Al0h3Ew9cCpR"
      },
      "source": [
        "We see that it keeps increasing in performance until around max_depth=6/7, then it probably overfits on the training data and it performs worse on the test set."
      ]
    },
    {
      "cell_type": "code",
      "execution_count": null,
      "metadata": {
        "colab": {
          "base_uri": "https://localhost:8080/",
          "height": 564
        },
        "id": "j0AFaLs7ZtTk",
        "outputId": "d744f179-2e5c-4574-d863-0b446dfc22bc"
      },
      "outputs": [],
      "source": [
        "import matplotlib.pyplot as plt\n",
        "# Extracting average scores and depths\n",
        "avg_scores = [d['avg_score'] for d in total_scores]\n",
        "depths = range(1, len(avg_scores) + 1)\n",
        "\n",
        "# Plotting\n",
        "plt.figure(figsize=(10, 6))\n",
        "plt.plot(depths, avg_scores, marker='o')\n",
        "plt.title(\"Average Cross-Validation Score vs. Tree Depth\")\n",
        "plt.xlabel(\"Max Depth of Decision Tree\")\n",
        "plt.ylabel(\"Average Cross-Validation Score\")\n",
        "plt.xticks(depths)\n",
        "plt.grid(True)\n",
        "plt.show()"
      ]
    },
    {
      "cell_type": "markdown",
      "metadata": {
        "id": "_7OVaZWed2Xd"
      },
      "source": [
        "### Underfitting and overfitting in random forest classifiers\n",
        "\n",
        "We now will perform the same experiment as the one above, but look at a `RandomForestClassifier` with regards to the size of the ensemble, i.e., the `n_estimators` parameter"
      ]
    },
    {
      "cell_type": "code",
      "execution_count": 28,
      "metadata": {
        "id": "GyxHAy4PdTRJ"
      },
      "outputs": [],
      "source": [
        "import matplotlib.pyplot as plt\n",
        "from sklearn.ensemble import RandomForestClassifier\n",
        "\n",
        "total_scores = []\n",
        "\n",
        "pipeline = make_pipeline(\n",
        "  DictVectorizer(),\n",
        "  RandomForestClassifier(n_estimators=1, n_jobs=-1)\n",
        ")\n",
        "pipeline.fit(x_train_dict, Y_train_encoded)\n",
        "scores = cross_val_score(pipeline, x_test_dict, Y_test_encoded, cv=5)\n",
        "total_scores.append({\"scores\": scores, \"avg_score\": np.mean(scores)})\n",
        "\n",
        "for i in range(10, 301, 10):\n",
        "  pipeline = make_pipeline(\n",
        "    DictVectorizer(),\n",
        "    RandomForestClassifier(n_estimators=i, n_jobs=-1)\n",
        "  )\n",
        "  pipeline.fit(x_train_dict, Y_train_encoded)\n",
        "  scores = cross_val_score(pipeline, x_test_dict, Y_test_encoded, cv=5)\n",
        "  total_scores.append({\"scores\": scores, \"avg_score\": np.mean(scores)})"
      ]
    },
    {
      "cell_type": "code",
      "execution_count": 38,
      "metadata": {},
      "outputs": [
        {
          "data": {
            "image/png": "[encoded data removed]",
            "text/plain": [
              "<Figure size 1500x300 with 1 Axes>"
            ]
          },
          "metadata": {},
          "output_type": "display_data"
        }
      ],
      "source": [
        "# Extracting average scores and depths\n",
        "avg_scores = [d['avg_score'] for d in total_scores]\n",
        "depths = [i * 10 if i != 0 else 1 for i in range(0, len(avg_scores))]\n",
        "\n",
        "# Plotting\n",
        "plt.figure(figsize=(15, 3))\n",
        "plt.plot(depths, avg_scores, marker='o')\n",
        "plt.title(\"Average Cross-Validation Score vs. n_estimators\")\n",
        "plt.xlabel(\"n_estimators\")\n",
        "plt.ylabel(\"Average Cross-Validation Score\")\n",
        "plt.xticks(depths)\n",
        "plt.grid(True)\n",
        "plt.show()\n"
      ]
    },
    {
      "cell_type": "markdown",
      "metadata": {
        "id": "siBqrnLQh-VZ"
      },
      "source": [
        "What's the difference between the curve for a decision tree and for a random forest with an ensemble size of 1, and why do we see this difference?\n",
        "\n",
        "What happens with the curve for random forests as the ensemble size grows?\n",
        "As the ensemble size grows, the curve goes towards a more stable value and hovers around that more tightly.\n",
        "\n",
        "What happens with the best observed test set accuracy as the ensemble size grows?\n",
        "The best observed test set accuracy is when the ensemble size is not that big.\n",
        "\n",
        "What happens with the training time as the ensemble size grows?\n",
        "\n",
        "The training time increases linearly as the the ensemble size grows."
      ]
    },
    {
      "cell_type": "markdown",
      "metadata": {
        "id": "xOQrrIrWfZQ_"
      },
      "source": [
        "## Task 3"
      ]
    },
    {
      "cell_type": "markdown",
      "metadata": {
        "id": "-QfhhOZmiKXz"
      },
      "source": [
        "We extra"
      ]
    },
    {
      "cell_type": "code",
      "execution_count": 41,
      "metadata": {
        "id": "QzsIBe_kfpoz"
      },
      "outputs": [
        {
          "name": "stdout",
          "output_type": "stream",
          "text": [
            "('age', 0.22650482335372668)\n",
            "('hours-per-week', 0.11405905427690158)\n",
            "('capital-gain', 0.10741326458724008)\n",
            "('education-num', 0.0679170161418503)\n",
            "('marital-status=Married-civ-spouse', 0.06431271127986277)\n",
            "('relationship=Husband', 0.04236598787199315)\n",
            "('capital-loss', 0.03553908447317525)\n",
            "('marital-status=Never-married', 0.027952251964743116)\n",
            "('occupation=Exec-managerial', 0.0192584997053966)\n",
            "('occupation=Prof-specialty', 0.015456843855704125)\n",
            "('relationship=Not-in-family', 0.012571910334762619)\n",
            "('education=Bachelors', 0.012187495326396939)\n",
            "('workclass=Private', 0.0114032721696194)\n",
            "('relationship=Wife', 0.010899317538153772)\n",
            "('relationship=Own-child', 0.009942112381965266)\n",
            "('sex=Female', 0.009501746577066688)\n",
            "('sex=Male', 0.009277167656400152)\n",
            "('workclass=Self-emp-not-inc', 0.009243728259439902)\n",
            "('education=HS-grad', 0.008177275848428407)\n",
            "('education=Masters', 0.008168826576437744)\n",
            "('occupation=Other-service', 0.0074759346999885125)\n",
            "('occupation=Sales', 0.007294930212582272)\n",
            "('occupation=Craft-repair', 0.007122673368557891)\n",
            "('race=White', 0.007044530301867334)\n",
            "('native-country=United-States', 0.007030309932404126)\n",
            "('workclass=Self-emp-inc', 0.006966428890784695)\n",
            "('marital-status=Divorced', 0.006667422792504942)\n",
            "('workclass=Local-gov', 0.006328210209333401)\n",
            "('occupation=Adm-clerical', 0.006190610385559037)\n",
            "('relationship=Unmarried', 0.005932030541030631)\n",
            "('education=Some-college', 0.005709717310911428)\n",
            "('workclass=Federal-gov', 0.005699762011028076)\n",
            "('race=Black', 0.005410285594435685)\n",
            "('education=Prof-school', 0.005216632401114599)\n",
            "('workclass=State-gov', 0.005176549092341261)\n",
            "('occupation=Tech-support', 0.005038567664502776)\n",
            "('occupation=Transport-moving', 0.004903914423115045)\n",
            "('occupation=Farming-fishing', 0.004737435127713027)\n",
            "('occupation=Machine-op-inspct', 0.004379768592174486)\n",
            "('education=Doctorate', 0.003804991893412289)\n",
            "('occupation=Handlers-cleaners', 0.0033797322852447496)\n",
            "('occupation=Protective-serv', 0.003355039029763842)\n",
            "('race=Asian-Pac-Islander', 0.0032689543976616824)\n",
            "('education=Assoc-voc', 0.0032504860673048044)\n",
            "('native-country=?', 0.00306472071999411)\n",
            "('education=Assoc-acdm', 0.0026311255749797507)\n",
            "('education=7th-8th', 0.002279313492107072)\n",
            "('education=11th', 0.002219888797025653)\n",
            "('marital-status=Separated', 0.0020301743132902176)\n",
            "('workclass=?', 0.0019673927954865517)\n",
            "('native-country=Mexico', 0.0019625078416241064)\n",
            "('occupation=?', 0.00190934749579367)\n",
            "('marital-status=Widowed', 0.0018019926911757918)\n",
            "('relationship=Other-relative', 0.0017228502300239796)\n",
            "('education=10th', 0.0015657437955737018)\n",
            "('race=Amer-Indian-Eskimo', 0.001551141500795142)\n",
            "('education=9th', 0.0013770253552647784)\n",
            "('native-country=Germany', 0.001253870253882132)\n",
            "('native-country=Canada', 0.0012513815367367809)\n",
            "('native-country=Philippines', 0.0010737811924291488)\n",
            "('native-country=England', 0.0010437178109802309)\n",
            "('marital-status=Married-spouse-absent', 0.0010405480573797373)\n",
            "('race=Other', 0.0009931649068764565)\n",
            "('education=12th', 0.0008827584733554879)\n",
            "('native-country=Italy', 0.0008316901185554063)\n",
            "('native-country=Cuba', 0.0008194930926480985)\n",
            "('native-country=India', 0.0008015788916714728)\n",
            "('education=5th-6th', 0.0007063776725228716)\n",
            "('native-country=South', 0.0006619842543915348)\n",
            "('native-country=Japan', 0.000634024325565747)\n",
            "('native-country=Poland', 0.0005740725094653793)\n",
            "('native-country=Puerto-Rico', 0.0005315688839856483)\n",
            "('native-country=Iran', 0.0005052637686529675)\n",
            "('native-country=China', 0.0005025116509465915)\n",
            "('native-country=Jamaica', 0.00048383623110573743)\n",
            "('marital-status=Married-AF-spouse', 0.0004570912908501752)\n",
            "('native-country=Vietnam', 0.0003741591387890529)\n",
            "('native-country=France', 0.0003606919004155501)\n",
            "('native-country=Greece', 0.00036034321226487636)\n",
            "('native-country=Yugoslavia', 0.0003499971277128866)\n",
            "('native-country=Taiwan', 0.00033203374242764846)\n",
            "('education=1st-4th', 0.00030994140014112666)\n",
            "('native-country=Cambodia', 0.00030749683394100434)\n",
            "('native-country=El-Salvador', 0.0002555517474083202)\n",
            "('native-country=Columbia', 0.00023907913530889138)\n",
            "('native-country=Portugal', 0.00021832255248012655)\n",
            "('native-country=Haiti', 0.00020662899395060093)\n",
            "('native-country=Ireland', 0.0001957951509633958)\n",
            "('native-country=Dominican-Republic', 0.00019112283098303022)\n",
            "('native-country=Hong', 0.0001879299478207719)\n",
            "('native-country=Ecuador', 0.00018300402926398749)\n",
            "('native-country=Hungary', 0.0001505422078365819)\n",
            "('native-country=Guatemala', 0.00013906259791411646)\n",
            "('occupation=Priv-house-serv', 0.00013805461862584825)\n",
            "('native-country=Nicaragua', 0.00011952382363378894)\n",
            "('native-country=Laos', 0.00011571767603887613)\n",
            "('native-country=Peru', 0.00011048770321088072)\n",
            "('native-country=Trinadad&Tobago', 0.00010765845912768175)\n",
            "('native-country=Thailand', 9.057177735971442e-05)\n",
            "('native-country=Scotland', 8.83485449519563e-05)\n",
            "('workclass=Without-pay', 7.14066890300564e-05)\n",
            "('education=Preschool', 6.220301529620797e-05)\n",
            "('native-country=Outlying-US(Guam-USVI-etc)', 3.229052328417341e-05)\n",
            "('occupation=Armed-Forces', 1.881653196988588e-05)\n",
            "('native-country=Honduras', 7.427734258164499e-06)\n",
            "('native-country=Holand-Netherlands', 3.916517320784104e-06)\n",
            "('workclass=Never-worked', 2.6269065327351024e-06)\n"
          ]
        }
      ],
      "source": [
        "dict_vectorizer = pipeline.steps[0][1]\n",
        "features_names = dict_vectorizer.feature_names_\n",
        "\n",
        "clf = pipeline.steps[1][1]\n",
        "feature_importance = clf.feature_importances_\n",
        "\n",
        "features = list(zip(features_names, feature_importance))\n",
        "sorted_features = sorted(features, key=lambda x: x[1], reverse=True)\n",
        "\n",
        "for feature in sorted_features:\n",
        "  print(feature)"
      ]
    }
  ],
  "metadata": {
    "colab": {
      "provenance": []
    },
    "kernelspec": {
      "display_name": "Python 3",
      "name": "python3"
    },
    "language_info": {
      "codemirror_mode": {
        "name": "ipython",
        "version": 3
      },
      "file_extension": ".py",
      "mimetype": "text/x-python",
      "name": "python",
      "nbconvert_exporter": "python",
      "pygments_lexer": "ipython3",
      "version": "3.11.6"
    }
  },
  "nbformat": 4,
  "nbformat_minor": 0
}
