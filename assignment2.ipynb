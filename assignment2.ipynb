{
  "cells": [
    {
      "cell_type": "markdown",
      "metadata": {
        "id": "QeE2dNpfB-qg"
      },
      "source": [
        "# Programming assignment 2\n",
        "\n",
        "Group 15: Torbjörn Livén and Samuel Kajava\n",
        "\n",
        "## Step 1: Reading the data\n",
        "\n",
        "We begin by downloading the data.\n",
        "\n",
        "We read the data from the train and test datasets and set the Y values to the income (`target`), and the rest in the X values."
      ]
    },
    {
      "cell_type": "code",
      "execution_count": null,
      "metadata": {
        "colab": {
          "base_uri": "https://localhost:8080/"
        },
        "id": "1FPC_pnF_6iP",
        "outputId": "b44e0075-7e2b-462b-be1a-74d16b5ceb9f"
      },
      "outputs": [],
      "source": [
        "!wget https://www.cse.chalmers.se/~richajo/dit866/data/adult_test.csv\n",
        "!wget https://www.cse.chalmers.se/~richajo/dit866/data/adult_train.csv"
      ]
    },
    {
      "cell_type": "code",
      "execution_count": 4,
      "metadata": {
        "id": "v4cf4DngCIG9"
      },
      "outputs": [],
      "source": [
        "import pandas as pd\n",
        "# Read the CSV file.\n",
        "test = pd.read_csv('adult_test.csv')\n",
        "train = pd.read_csv('adult_train.csv')\n",
        "\n",
        "cols = [\"age\",\"workclass\",\"education\",\"education-num\",\"marital-status\",\"occupation\",\"relationship\",\"race\",\"sex\",\"capital-gain\",\"capital-loss\",\"hours-per-week\",\"native-country\",\"target\"]\n",
        "test = test[cols]\n",
        "train = train[cols]\n",
        "X_test = test.drop(\"target\", axis=1)\n",
        "X_train = train.drop(\"target\", axis=1)\n",
        "Y_test = test[\"target\"]\n",
        "Y_train = train[\"target\"]"
      ]
    },
    {
      "cell_type": "code",
      "execution_count": 30,
      "metadata": {
        "colab": {
          "base_uri": "https://localhost:8080/",
          "height": 206
        },
        "id": "cvV-nhSRDozO",
        "outputId": "c8ceea3d-8725-419a-933e-1b646c929b83"
      },
      "outputs": [
        {
          "data": {
            "text/html": [
              "<div>\n",
              "<style scoped>\n",
              "    .dataframe tbody tr th:only-of-type {\n",
              "        vertical-align: middle;\n",
              "    }\n",
              "\n",
              "    .dataframe tbody tr th {\n",
              "        vertical-align: top;\n",
              "    }\n",
              "\n",
              "    .dataframe thead th {\n",
              "        text-align: right;\n",
              "    }\n",
              "</style>\n",
              "<table border=\"1\" class=\"dataframe\">\n",
              "  <thead>\n",
              "    <tr style=\"text-align: right;\">\n",
              "      <th></th>\n",
              "      <th>age</th>\n",
              "      <th>workclass</th>\n",
              "      <th>education</th>\n",
              "      <th>education-num</th>\n",
              "      <th>marital-status</th>\n",
              "      <th>occupation</th>\n",
              "      <th>relationship</th>\n",
              "      <th>race</th>\n",
              "      <th>sex</th>\n",
              "      <th>capital-gain</th>\n",
              "      <th>capital-loss</th>\n",
              "      <th>hours-per-week</th>\n",
              "      <th>native-country</th>\n",
              "    </tr>\n",
              "  </thead>\n",
              "  <tbody>\n",
              "    <tr>\n",
              "      <th>0</th>\n",
              "      <td>25</td>\n",
              "      <td>Private</td>\n",
              "      <td>11th</td>\n",
              "      <td>7</td>\n",
              "      <td>Never-married</td>\n",
              "      <td>Machine-op-inspct</td>\n",
              "      <td>Own-child</td>\n",
              "      <td>Black</td>\n",
              "      <td>Male</td>\n",
              "      <td>0</td>\n",
              "      <td>0</td>\n",
              "      <td>40</td>\n",
              "      <td>United-States</td>\n",
              "    </tr>\n",
              "    <tr>\n",
              "      <th>1</th>\n",
              "      <td>38</td>\n",
              "      <td>Private</td>\n",
              "      <td>HS-grad</td>\n",
              "      <td>9</td>\n",
              "      <td>Married-civ-spouse</td>\n",
              "      <td>Farming-fishing</td>\n",
              "      <td>Husband</td>\n",
              "      <td>White</td>\n",
              "      <td>Male</td>\n",
              "      <td>0</td>\n",
              "      <td>0</td>\n",
              "      <td>50</td>\n",
              "      <td>United-States</td>\n",
              "    </tr>\n",
              "    <tr>\n",
              "      <th>2</th>\n",
              "      <td>28</td>\n",
              "      <td>Local-gov</td>\n",
              "      <td>Assoc-acdm</td>\n",
              "      <td>12</td>\n",
              "      <td>Married-civ-spouse</td>\n",
              "      <td>Protective-serv</td>\n",
              "      <td>Husband</td>\n",
              "      <td>White</td>\n",
              "      <td>Male</td>\n",
              "      <td>0</td>\n",
              "      <td>0</td>\n",
              "      <td>40</td>\n",
              "      <td>United-States</td>\n",
              "    </tr>\n",
              "    <tr>\n",
              "      <th>3</th>\n",
              "      <td>44</td>\n",
              "      <td>Private</td>\n",
              "      <td>Some-college</td>\n",
              "      <td>10</td>\n",
              "      <td>Married-civ-spouse</td>\n",
              "      <td>Machine-op-inspct</td>\n",
              "      <td>Husband</td>\n",
              "      <td>Black</td>\n",
              "      <td>Male</td>\n",
              "      <td>7688</td>\n",
              "      <td>0</td>\n",
              "      <td>40</td>\n",
              "      <td>United-States</td>\n",
              "    </tr>\n",
              "    <tr>\n",
              "      <th>4</th>\n",
              "      <td>18</td>\n",
              "      <td>?</td>\n",
              "      <td>Some-college</td>\n",
              "      <td>10</td>\n",
              "      <td>Never-married</td>\n",
              "      <td>?</td>\n",
              "      <td>Own-child</td>\n",
              "      <td>White</td>\n",
              "      <td>Female</td>\n",
              "      <td>0</td>\n",
              "      <td>0</td>\n",
              "      <td>30</td>\n",
              "      <td>United-States</td>\n",
              "    </tr>\n",
              "  </tbody>\n",
              "</table>\n",
              "</div>"
            ],
            "text/plain": [
              "   age  workclass     education  education-num      marital-status  \\\n",
              "0   25    Private          11th              7       Never-married   \n",
              "1   38    Private       HS-grad              9  Married-civ-spouse   \n",
              "2   28  Local-gov    Assoc-acdm             12  Married-civ-spouse   \n",
              "3   44    Private  Some-college             10  Married-civ-spouse   \n",
              "4   18          ?  Some-college             10       Never-married   \n",
              "\n",
              "          occupation relationship   race     sex  capital-gain  capital-loss  \\\n",
              "0  Machine-op-inspct    Own-child  Black    Male             0             0   \n",
              "1    Farming-fishing      Husband  White    Male             0             0   \n",
              "2    Protective-serv      Husband  White    Male             0             0   \n",
              "3  Machine-op-inspct      Husband  Black    Male          7688             0   \n",
              "4                  ?    Own-child  White  Female             0             0   \n",
              "\n",
              "   hours-per-week native-country  \n",
              "0              40  United-States  \n",
              "1              50  United-States  \n",
              "2              40  United-States  \n",
              "3              40  United-States  \n",
              "4              30  United-States  "
            ]
          },
          "execution_count": 30,
          "metadata": {},
          "output_type": "execute_result"
        }
      ],
      "source": [
        "X_test.head()"
      ]
    },
    {
      "cell_type": "markdown",
      "metadata": {
        "id": "MKyt_IKgIN4w"
      },
      "source": [
        "### Step 2: Enconding the features as numbers\n",
        "\n",
        "We now use one-hot encoding of the features to convert them to numerical values so we can work with them in scikit."
      ]
    },
    {
      "cell_type": "code",
      "execution_count": 5,
      "metadata": {
        "colab": {
          "base_uri": "https://localhost:8080/"
        },
        "id": "kV8lWRnuHZqa",
        "outputId": "113dd56f-2271-4211-a549-44410cef8e31"
      },
      "outputs": [],
      "source": [
        "x_test_dict = X_test.to_dict('records')\n",
        "x_train_dict = X_train.to_dict(\"records\")\n",
        "y_test_dict = Y_test.to_dict()\n",
        "y_train_dict = Y_train.to_dict()"
      ]
    },
    {
      "cell_type": "markdown",
      "metadata": {
        "id": "VfvDNvxWOP2o"
      },
      "source": [
        "Now we encode the dicts"
      ]
    },
    {
      "cell_type": "code",
      "execution_count": 6,
      "metadata": {
        "id": "TrdOxSXxIfyS"
      },
      "outputs": [],
      "source": [
        "from sklearn.feature_extraction import DictVectorizer\n",
        "from sklearn.preprocessing import LabelEncoder\n",
        "dv = DictVectorizer()\n",
        "X_train_encoded = dv.fit_transform(x_train_dict)\n",
        "# Y_train_encoded = dv.fit_transform(y_train_dict)\n",
        "\n",
        "X_test_encoded = dv.transform(x_test_dict)\n",
        "# Y_test_encoded = dv.transform(y_test_dict)\n",
        "label_encoder = LabelEncoder()\n",
        "Y_train_encoded = label_encoder.fit_transform(Y_train)\n",
        "Y_test_encoded = label_encoder.transform(Y_test)"
      ]
    },
    {
      "cell_type": "markdown",
      "metadata": {},
      "source": [
        "Then we train a GradientBoostingClassifier"
      ]
    },
    {
      "cell_type": "code",
      "execution_count": 7,
      "metadata": {
        "colab": {
          "base_uri": "https://localhost:8080/"
        },
        "id": "z8RjUgcQQlm1",
        "outputId": "bf1d700c-ac9e-46cf-bb02-323138265cb9"
      },
      "outputs": [
        {
          "name": "stdout",
          "output_type": "stream",
          "text": [
            "0.8711036064329478\n"
          ]
        }
      ],
      "source": [
        "import sklearn.ensemble as ensemble\n",
        "from sklearn.model_selection import cross_val_score\n",
        "import numpy as np\n",
        "\n",
        "gb_clf = ensemble.GradientBoostingClassifier(max_depth=10)\n",
        "gb_cross_val = cross_val_score(gb_clf, X_train_encoded, Y_train_encoded)\n",
        "print(np.mean(gb_cross_val))"
      ]
    },
    {
      "cell_type": "markdown",
      "metadata": {
        "id": "oQuxPByPPuq3"
      },
      "source": [
        "### Step 3: Combining the steps\n",
        "\n",
        "Now it is time to do some more preprocessing, and we make a pipeline consisting of our vectorization followed by a RandomForestClassifier."
      ]
    },
    {
      "cell_type": "code",
      "execution_count": 9,
      "metadata": {
        "colab": {
          "base_uri": "https://localhost:8080/",
          "height": 125
        },
        "id": "5G0GI96QQTvW",
        "outputId": "93a43e52-7661-4dd9-855e-e6c2414ee744"
      },
      "outputs": [
        {
          "data": {
            "text/html": [
              "<style>#sk-container-id-1 {\n",
              "  /* Definition of color scheme common for light and dark mode */\n",
              "  --sklearn-color-text: black;\n",
              "  --sklearn-color-line: gray;\n",
              "  /* Definition of color scheme for unfitted estimators */\n",
              "  --sklearn-color-unfitted-level-0: #fff5e6;\n",
              "  --sklearn-color-unfitted-level-1: #f6e4d2;\n",
              "  --sklearn-color-unfitted-level-2: #ffe0b3;\n",
              "  --sklearn-color-unfitted-level-3: chocolate;\n",
              "  /* Definition of color scheme for fitted estimators */\n",
              "  --sklearn-color-fitted-level-0: #f0f8ff;\n",
              "  --sklearn-color-fitted-level-1: #d4ebff;\n",
              "  --sklearn-color-fitted-level-2: #b3dbfd;\n",
              "  --sklearn-color-fitted-level-3: cornflowerblue;\n",
              "\n",
              "  /* Specific color for light theme */\n",
              "  --sklearn-color-text-on-default-background: var(--sg-text-color, var(--theme-code-foreground, var(--jp-content-font-color1, black)));\n",
              "  --sklearn-color-background: var(--sg-background-color, var(--theme-background, var(--jp-layout-color0, white)));\n",
              "  --sklearn-color-border-box: var(--sg-text-color, var(--theme-code-foreground, var(--jp-content-font-color1, black)));\n",
              "  --sklearn-color-icon: #696969;\n",
              "\n",
              "  @media (prefers-color-scheme: dark) {\n",
              "    /* Redefinition of color scheme for dark theme */\n",
              "    --sklearn-color-text-on-default-background: var(--sg-text-color, var(--theme-code-foreground, var(--jp-content-font-color1, white)));\n",
              "    --sklearn-color-background: var(--sg-background-color, var(--theme-background, var(--jp-layout-color0, #111)));\n",
              "    --sklearn-color-border-box: var(--sg-text-color, var(--theme-code-foreground, var(--jp-content-font-color1, white)));\n",
              "    --sklearn-color-icon: #878787;\n",
              "  }\n",
              "}\n",
              "\n",
              "#sk-container-id-1 {\n",
              "  color: var(--sklearn-color-text);\n",
              "}\n",
              "\n",
              "#sk-container-id-1 pre {\n",
              "  padding: 0;\n",
              "}\n",
              "\n",
              "#sk-container-id-1 input.sk-hidden--visually {\n",
              "  border: 0;\n",
              "  clip: rect(1px 1px 1px 1px);\n",
              "  clip: rect(1px, 1px, 1px, 1px);\n",
              "  height: 1px;\n",
              "  margin: -1px;\n",
              "  overflow: hidden;\n",
              "  padding: 0;\n",
              "  position: absolute;\n",
              "  width: 1px;\n",
              "}\n",
              "\n",
              "#sk-container-id-1 div.sk-dashed-wrapped {\n",
              "  border: 1px dashed var(--sklearn-color-line);\n",
              "  margin: 0 0.4em 0.5em 0.4em;\n",
              "  box-sizing: border-box;\n",
              "  padding-bottom: 0.4em;\n",
              "  background-color: var(--sklearn-color-background);\n",
              "}\n",
              "\n",
              "#sk-container-id-1 div.sk-container {\n",
              "  /* jupyter's `normalize.less` sets `[hidden] { display: none; }`\n",
              "     but bootstrap.min.css set `[hidden] { display: none !important; }`\n",
              "     so we also need the `!important` here to be able to override the\n",
              "     default hidden behavior on the sphinx rendered scikit-learn.org.\n",
              "     See: https://github.com/scikit-learn/scikit-learn/issues/21755 */\n",
              "  display: inline-block !important;\n",
              "  position: relative;\n",
              "}\n",
              "\n",
              "#sk-container-id-1 div.sk-text-repr-fallback {\n",
              "  display: none;\n",
              "}\n",
              "\n",
              "div.sk-parallel-item,\n",
              "div.sk-serial,\n",
              "div.sk-item {\n",
              "  /* draw centered vertical line to link estimators */\n",
              "  background-image: linear-gradient(var(--sklearn-color-text-on-default-background), var(--sklearn-color-text-on-default-background));\n",
              "  background-size: 2px 100%;\n",
              "  background-repeat: no-repeat;\n",
              "  background-position: center center;\n",
              "}\n",
              "\n",
              "/* Parallel-specific style estimator block */\n",
              "\n",
              "#sk-container-id-1 div.sk-parallel-item::after {\n",
              "  content: \"\";\n",
              "  width: 100%;\n",
              "  border-bottom: 2px solid var(--sklearn-color-text-on-default-background);\n",
              "  flex-grow: 1;\n",
              "}\n",
              "\n",
              "#sk-container-id-1 div.sk-parallel {\n",
              "  display: flex;\n",
              "  align-items: stretch;\n",
              "  justify-content: center;\n",
              "  background-color: var(--sklearn-color-background);\n",
              "  position: relative;\n",
              "}\n",
              "\n",
              "#sk-container-id-1 div.sk-parallel-item {\n",
              "  display: flex;\n",
              "  flex-direction: column;\n",
              "}\n",
              "\n",
              "#sk-container-id-1 div.sk-parallel-item:first-child::after {\n",
              "  align-self: flex-end;\n",
              "  width: 50%;\n",
              "}\n",
              "\n",
              "#sk-container-id-1 div.sk-parallel-item:last-child::after {\n",
              "  align-self: flex-start;\n",
              "  width: 50%;\n",
              "}\n",
              "\n",
              "#sk-container-id-1 div.sk-parallel-item:only-child::after {\n",
              "  width: 0;\n",
              "}\n",
              "\n",
              "/* Serial-specific style estimator block */\n",
              "\n",
              "#sk-container-id-1 div.sk-serial {\n",
              "  display: flex;\n",
              "  flex-direction: column;\n",
              "  align-items: center;\n",
              "  background-color: var(--sklearn-color-background);\n",
              "  padding-right: 1em;\n",
              "  padding-left: 1em;\n",
              "}\n",
              "\n",
              "\n",
              "/* Toggleable style: style used for estimator/Pipeline/ColumnTransformer box that is\n",
              "clickable and can be expanded/collapsed.\n",
              "- Pipeline and ColumnTransformer use this feature and define the default style\n",
              "- Estimators will overwrite some part of the style using the `sk-estimator` class\n",
              "*/\n",
              "\n",
              "/* Pipeline and ColumnTransformer style (default) */\n",
              "\n",
              "#sk-container-id-1 div.sk-toggleable {\n",
              "  /* Default theme specific background. It is overwritten whether we have a\n",
              "  specific estimator or a Pipeline/ColumnTransformer */\n",
              "  background-color: var(--sklearn-color-background);\n",
              "}\n",
              "\n",
              "/* Toggleable label */\n",
              "#sk-container-id-1 label.sk-toggleable__label {\n",
              "  cursor: pointer;\n",
              "  display: block;\n",
              "  width: 100%;\n",
              "  margin-bottom: 0;\n",
              "  padding: 0.5em;\n",
              "  box-sizing: border-box;\n",
              "  text-align: center;\n",
              "}\n",
              "\n",
              "#sk-container-id-1 label.sk-toggleable__label-arrow:before {\n",
              "  /* Arrow on the left of the label */\n",
              "  content: \"▸\";\n",
              "  float: left;\n",
              "  margin-right: 0.25em;\n",
              "  color: var(--sklearn-color-icon);\n",
              "}\n",
              "\n",
              "#sk-container-id-1 label.sk-toggleable__label-arrow:hover:before {\n",
              "  color: var(--sklearn-color-text);\n",
              "}\n",
              "\n",
              "/* Toggleable content - dropdown */\n",
              "\n",
              "#sk-container-id-1 div.sk-toggleable__content {\n",
              "  max-height: 0;\n",
              "  max-width: 0;\n",
              "  overflow: hidden;\n",
              "  text-align: left;\n",
              "  /* unfitted */\n",
              "  background-color: var(--sklearn-color-unfitted-level-0);\n",
              "}\n",
              "\n",
              "#sk-container-id-1 div.sk-toggleable__content.fitted {\n",
              "  /* fitted */\n",
              "  background-color: var(--sklearn-color-fitted-level-0);\n",
              "}\n",
              "\n",
              "#sk-container-id-1 div.sk-toggleable__content pre {\n",
              "  margin: 0.2em;\n",
              "  border-radius: 0.25em;\n",
              "  color: var(--sklearn-color-text);\n",
              "  /* unfitted */\n",
              "  background-color: var(--sklearn-color-unfitted-level-0);\n",
              "}\n",
              "\n",
              "#sk-container-id-1 div.sk-toggleable__content.fitted pre {\n",
              "  /* unfitted */\n",
              "  background-color: var(--sklearn-color-fitted-level-0);\n",
              "}\n",
              "\n",
              "#sk-container-id-1 input.sk-toggleable__control:checked~div.sk-toggleable__content {\n",
              "  /* Expand drop-down */\n",
              "  max-height: 200px;\n",
              "  max-width: 100%;\n",
              "  overflow: auto;\n",
              "}\n",
              "\n",
              "#sk-container-id-1 input.sk-toggleable__control:checked~label.sk-toggleable__label-arrow:before {\n",
              "  content: \"▾\";\n",
              "}\n",
              "\n",
              "/* Pipeline/ColumnTransformer-specific style */\n",
              "\n",
              "#sk-container-id-1 div.sk-label input.sk-toggleable__control:checked~label.sk-toggleable__label {\n",
              "  color: var(--sklearn-color-text);\n",
              "  background-color: var(--sklearn-color-unfitted-level-2);\n",
              "}\n",
              "\n",
              "#sk-container-id-1 div.sk-label.fitted input.sk-toggleable__control:checked~label.sk-toggleable__label {\n",
              "  background-color: var(--sklearn-color-fitted-level-2);\n",
              "}\n",
              "\n",
              "/* Estimator-specific style */\n",
              "\n",
              "/* Colorize estimator box */\n",
              "#sk-container-id-1 div.sk-estimator input.sk-toggleable__control:checked~label.sk-toggleable__label {\n",
              "  /* unfitted */\n",
              "  background-color: var(--sklearn-color-unfitted-level-2);\n",
              "}\n",
              "\n",
              "#sk-container-id-1 div.sk-estimator.fitted input.sk-toggleable__control:checked~label.sk-toggleable__label {\n",
              "  /* fitted */\n",
              "  background-color: var(--sklearn-color-fitted-level-2);\n",
              "}\n",
              "\n",
              "#sk-container-id-1 div.sk-label label.sk-toggleable__label,\n",
              "#sk-container-id-1 div.sk-label label {\n",
              "  /* The background is the default theme color */\n",
              "  color: var(--sklearn-color-text-on-default-background);\n",
              "}\n",
              "\n",
              "/* On hover, darken the color of the background */\n",
              "#sk-container-id-1 div.sk-label:hover label.sk-toggleable__label {\n",
              "  color: var(--sklearn-color-text);\n",
              "  background-color: var(--sklearn-color-unfitted-level-2);\n",
              "}\n",
              "\n",
              "/* Label box, darken color on hover, fitted */\n",
              "#sk-container-id-1 div.sk-label.fitted:hover label.sk-toggleable__label.fitted {\n",
              "  color: var(--sklearn-color-text);\n",
              "  background-color: var(--sklearn-color-fitted-level-2);\n",
              "}\n",
              "\n",
              "/* Estimator label */\n",
              "\n",
              "#sk-container-id-1 div.sk-label label {\n",
              "  font-family: monospace;\n",
              "  font-weight: bold;\n",
              "  display: inline-block;\n",
              "  line-height: 1.2em;\n",
              "}\n",
              "\n",
              "#sk-container-id-1 div.sk-label-container {\n",
              "  text-align: center;\n",
              "}\n",
              "\n",
              "/* Estimator-specific */\n",
              "#sk-container-id-1 div.sk-estimator {\n",
              "  font-family: monospace;\n",
              "  border: 1px dotted var(--sklearn-color-border-box);\n",
              "  border-radius: 0.25em;\n",
              "  box-sizing: border-box;\n",
              "  margin-bottom: 0.5em;\n",
              "  /* unfitted */\n",
              "  background-color: var(--sklearn-color-unfitted-level-0);\n",
              "}\n",
              "\n",
              "#sk-container-id-1 div.sk-estimator.fitted {\n",
              "  /* fitted */\n",
              "  background-color: var(--sklearn-color-fitted-level-0);\n",
              "}\n",
              "\n",
              "/* on hover */\n",
              "#sk-container-id-1 div.sk-estimator:hover {\n",
              "  /* unfitted */\n",
              "  background-color: var(--sklearn-color-unfitted-level-2);\n",
              "}\n",
              "\n",
              "#sk-container-id-1 div.sk-estimator.fitted:hover {\n",
              "  /* fitted */\n",
              "  background-color: var(--sklearn-color-fitted-level-2);\n",
              "}\n",
              "\n",
              "/* Specification for estimator info (e.g. \"i\" and \"?\") */\n",
              "\n",
              "/* Common style for \"i\" and \"?\" */\n",
              "\n",
              ".sk-estimator-doc-link,\n",
              "a:link.sk-estimator-doc-link,\n",
              "a:visited.sk-estimator-doc-link {\n",
              "  float: right;\n",
              "  font-size: smaller;\n",
              "  line-height: 1em;\n",
              "  font-family: monospace;\n",
              "  background-color: var(--sklearn-color-background);\n",
              "  border-radius: 1em;\n",
              "  height: 1em;\n",
              "  width: 1em;\n",
              "  text-decoration: none !important;\n",
              "  margin-left: 1ex;\n",
              "  /* unfitted */\n",
              "  border: var(--sklearn-color-unfitted-level-1) 1pt solid;\n",
              "  color: var(--sklearn-color-unfitted-level-1);\n",
              "}\n",
              "\n",
              ".sk-estimator-doc-link.fitted,\n",
              "a:link.sk-estimator-doc-link.fitted,\n",
              "a:visited.sk-estimator-doc-link.fitted {\n",
              "  /* fitted */\n",
              "  border: var(--sklearn-color-fitted-level-1) 1pt solid;\n",
              "  color: var(--sklearn-color-fitted-level-1);\n",
              "}\n",
              "\n",
              "/* On hover */\n",
              "div.sk-estimator:hover .sk-estimator-doc-link:hover,\n",
              ".sk-estimator-doc-link:hover,\n",
              "div.sk-label-container:hover .sk-estimator-doc-link:hover,\n",
              ".sk-estimator-doc-link:hover {\n",
              "  /* unfitted */\n",
              "  background-color: var(--sklearn-color-unfitted-level-3);\n",
              "  color: var(--sklearn-color-background);\n",
              "  text-decoration: none;\n",
              "}\n",
              "\n",
              "div.sk-estimator.fitted:hover .sk-estimator-doc-link.fitted:hover,\n",
              ".sk-estimator-doc-link.fitted:hover,\n",
              "div.sk-label-container:hover .sk-estimator-doc-link.fitted:hover,\n",
              ".sk-estimator-doc-link.fitted:hover {\n",
              "  /* fitted */\n",
              "  background-color: var(--sklearn-color-fitted-level-3);\n",
              "  color: var(--sklearn-color-background);\n",
              "  text-decoration: none;\n",
              "}\n",
              "\n",
              "/* Span, style for the box shown on hovering the info icon */\n",
              ".sk-estimator-doc-link span {\n",
              "  display: none;\n",
              "  z-index: 9999;\n",
              "  position: relative;\n",
              "  font-weight: normal;\n",
              "  right: .2ex;\n",
              "  padding: .5ex;\n",
              "  margin: .5ex;\n",
              "  width: min-content;\n",
              "  min-width: 20ex;\n",
              "  max-width: 50ex;\n",
              "  color: var(--sklearn-color-text);\n",
              "  box-shadow: 2pt 2pt 4pt #999;\n",
              "  /* unfitted */\n",
              "  background: var(--sklearn-color-unfitted-level-0);\n",
              "  border: .5pt solid var(--sklearn-color-unfitted-level-3);\n",
              "}\n",
              "\n",
              ".sk-estimator-doc-link.fitted span {\n",
              "  /* fitted */\n",
              "  background: var(--sklearn-color-fitted-level-0);\n",
              "  border: var(--sklearn-color-fitted-level-3);\n",
              "}\n",
              "\n",
              ".sk-estimator-doc-link:hover span {\n",
              "  display: block;\n",
              "}\n",
              "\n",
              "/* \"?\"-specific style due to the `<a>` HTML tag */\n",
              "\n",
              "#sk-container-id-1 a.estimator_doc_link {\n",
              "  float: right;\n",
              "  font-size: 1rem;\n",
              "  line-height: 1em;\n",
              "  font-family: monospace;\n",
              "  background-color: var(--sklearn-color-background);\n",
              "  border-radius: 1rem;\n",
              "  height: 1rem;\n",
              "  width: 1rem;\n",
              "  text-decoration: none;\n",
              "  /* unfitted */\n",
              "  color: var(--sklearn-color-unfitted-level-1);\n",
              "  border: var(--sklearn-color-unfitted-level-1) 1pt solid;\n",
              "}\n",
              "\n",
              "#sk-container-id-1 a.estimator_doc_link.fitted {\n",
              "  /* fitted */\n",
              "  border: var(--sklearn-color-fitted-level-1) 1pt solid;\n",
              "  color: var(--sklearn-color-fitted-level-1);\n",
              "}\n",
              "\n",
              "/* On hover */\n",
              "#sk-container-id-1 a.estimator_doc_link:hover {\n",
              "  /* unfitted */\n",
              "  background-color: var(--sklearn-color-unfitted-level-3);\n",
              "  color: var(--sklearn-color-background);\n",
              "  text-decoration: none;\n",
              "}\n",
              "\n",
              "#sk-container-id-1 a.estimator_doc_link.fitted:hover {\n",
              "  /* fitted */\n",
              "  background-color: var(--sklearn-color-fitted-level-3);\n",
              "}\n",
              "</style><div id=\"sk-container-id-1\" class=\"sk-top-container\"><div class=\"sk-text-repr-fallback\"><pre>Pipeline(steps=[(&#x27;dictvectorizer&#x27;, DictVectorizer()),\n",
              "                (&#x27;decisiontreeclassifier&#x27;, DecisionTreeClassifier())])</pre><b>In a Jupyter environment, please rerun this cell to show the HTML representation or trust the notebook. <br />On GitHub, the HTML representation is unable to render, please try loading this page with nbviewer.org.</b></div><div class=\"sk-container\" hidden><div class=\"sk-item sk-dashed-wrapped\"><div class=\"sk-label-container\"><div class=\"sk-label fitted sk-toggleable\"><input class=\"sk-toggleable__control sk-hidden--visually\" id=\"sk-estimator-id-1\" type=\"checkbox\" ><label for=\"sk-estimator-id-1\" class=\"sk-toggleable__label fitted sk-toggleable__label-arrow fitted\">&nbsp;&nbsp;Pipeline<a class=\"sk-estimator-doc-link fitted\" rel=\"noreferrer\" target=\"_blank\" href=\"https://scikit-learn.org/1.4/modules/generated/sklearn.pipeline.Pipeline.html\">?<span>Documentation for Pipeline</span></a><span class=\"sk-estimator-doc-link fitted\">i<span>Fitted</span></span></label><div class=\"sk-toggleable__content fitted\"><pre>Pipeline(steps=[(&#x27;dictvectorizer&#x27;, DictVectorizer()),\n",
              "                (&#x27;decisiontreeclassifier&#x27;, DecisionTreeClassifier())])</pre></div> </div></div><div class=\"sk-serial\"><div class=\"sk-item\"><div class=\"sk-estimator fitted sk-toggleable\"><input class=\"sk-toggleable__control sk-hidden--visually\" id=\"sk-estimator-id-2\" type=\"checkbox\" ><label for=\"sk-estimator-id-2\" class=\"sk-toggleable__label fitted sk-toggleable__label-arrow fitted\">&nbsp;DictVectorizer<a class=\"sk-estimator-doc-link fitted\" rel=\"noreferrer\" target=\"_blank\" href=\"https://scikit-learn.org/1.4/modules/generated/sklearn.feature_extraction.DictVectorizer.html\">?<span>Documentation for DictVectorizer</span></a></label><div class=\"sk-toggleable__content fitted\"><pre>DictVectorizer()</pre></div> </div></div><div class=\"sk-item\"><div class=\"sk-estimator fitted sk-toggleable\"><input class=\"sk-toggleable__control sk-hidden--visually\" id=\"sk-estimator-id-3\" type=\"checkbox\" ><label for=\"sk-estimator-id-3\" class=\"sk-toggleable__label fitted sk-toggleable__label-arrow fitted\">&nbsp;DecisionTreeClassifier<a class=\"sk-estimator-doc-link fitted\" rel=\"noreferrer\" target=\"_blank\" href=\"https://scikit-learn.org/1.4/modules/generated/sklearn.tree.DecisionTreeClassifier.html\">?<span>Documentation for DecisionTreeClassifier</span></a></label><div class=\"sk-toggleable__content fitted\"><pre>DecisionTreeClassifier()</pre></div> </div></div></div></div></div></div>"
            ],
            "text/plain": [
              "Pipeline(steps=[('dictvectorizer', DictVectorizer()),\n",
              "                ('decisiontreeclassifier', DecisionTreeClassifier())])"
            ]
          },
          "execution_count": 9,
          "metadata": {},
          "output_type": "execute_result"
        }
      ],
      "source": [
        "from sklearn.pipeline import make_pipeline\n",
        "from sklearn.ensemble import GradientBoostingClassifier\n",
        "from sklearn.tree import DecisionTreeClassifier\n",
        "\n",
        "pipeline = make_pipeline(\n",
        "  DictVectorizer(),\n",
        "  DecisionTreeClassifier ()\n",
        ")\n",
        "\n",
        "pipeline.fit(x_train_dict, Y_train_encoded)"
      ]
    },
    {
      "cell_type": "code",
      "execution_count": 10,
      "metadata": {
        "colab": {
          "base_uri": "https://localhost:8080/"
        },
        "id": "tjga4dzPWZu4",
        "outputId": "fca5ba2b-22f2-4281-fd85-2bdd1567a923"
      },
      "outputs": [
        {
          "name": "stdout",
          "output_type": "stream",
          "text": [
            "Cross-validation scores: [0.81363218 0.81296069 0.80712531 0.80589681 0.82340295]\n",
            "Average score: 0.8126035852471223\n"
          ]
        }
      ],
      "source": [
        "from sklearn.model_selection import cross_val_score\n",
        "\n",
        "scores = cross_val_score(pipeline, x_test_dict, Y_test_encoded, cv=5)\n",
        "print(\"Cross-validation scores:\", scores)\n",
        "print(\"Average score:\", np.mean(scores))"
      ]
    },
    {
      "cell_type": "markdown",
      "metadata": {
        "id": "y1Udk04wcclV"
      },
      "source": [
        "## Task 2: Decision trees and random forests\n",
        "\n",
        "We now investigate the performance of classifiers with regards to the maxmimum depth of the tree.\n",
        "\n",
        "We test for depths `1..12` with a pipeline using a `DecisionTreeClassifier`."
      ]
    },
    {
      "cell_type": "code",
      "execution_count": 27,
      "metadata": {
        "colab": {
          "base_uri": "https://localhost:8080/"
        },
        "id": "BWyUpy_3Zc4k",
        "outputId": "21a030b8-e4c2-42f5-cf3b-22c558b098bb"
      },
      "outputs": [
        {
          "name": "stdout",
          "output_type": "stream",
          "text": [
            "[{'scores': array([0.76358612, 0.76382064, 0.76382064, 0.76382064, 0.76382064]), 'avg_score': 0.7637737354961794}, {'scores': array([0.82929076, 0.82923833, 0.8264742 , 0.83722359, 0.83722359]), 'avg_score': 0.8318900927052602}, {'scores': array([0.84464231, 0.84183047, 0.83814496, 0.84858722, 0.8507371 ]), 'avg_score': 0.8447884126345901}, {'scores': array([0.84433528, 0.84183047, 0.83875921, 0.84920147, 0.85104423]), 'avg_score': 0.8450341317396889}, {'scores': array([0.84863371, 0.84797297, 0.85012285, 0.85810811, 0.85687961]), 'avg_score': 0.8523434500176903}, {'scores': array([0.85078293, 0.85503686, 0.84981572, 0.85933661, 0.85964373]), 'avg_score': 0.854923170581752}, {'scores': array([0.85723058, 0.85350123, 0.85104423, 0.86025799, 0.86179361]), 'avg_score': 0.8567655263771321}, {'scores': array([0.85630949, 0.85135135, 0.8507371 , 0.86302211, 0.85964373]), 'avg_score': 0.8562127574025025}, {'scores': array([0.85569543, 0.85810811, 0.84889435, 0.85841523, 0.85534398]), 'avg_score': 0.8552914191999239}, {'scores': array([0.85262512, 0.85595823, 0.84613022, 0.85933661, 0.85780098]), 'avg_score': 0.8543702318725346}, {'scores': array([0.85293215, 0.85841523, 0.84459459, 0.85841523, 0.85565111]), 'avg_score': 0.8540016626445857}]\n"
          ]
        }
      ],
      "source": [
        "from sklearn.tree import DecisionTreeClassifier\n",
        "\n",
        "total_scores = []\n",
        "for estimators in range(1, 12):\n",
        "  pipeline = make_pipeline(\n",
        "    DictVectorizer(),\n",
        "    DecisionTreeClassifier(max_depth=estimators)\n",
        "  )\n",
        "  pipeline.fit(x_train_dict, Y_train_encoded)\n",
        "  scores = cross_val_score(pipeline, x_test_dict, Y_test_encoded, cv=5)\n",
        "  total_scores.append({\"scores\": scores, \"avg_score\": np.mean(scores)})\n",
        "\n",
        "\n",
        "print(total_scores)"
      ]
    },
    {
      "cell_type": "markdown",
      "metadata": {
        "id": "Al0h3Ew9cCpR"
      },
      "source": [
        "We see that it keeps increasing in performance until around max_depth=6/7, then it probably overfits on the training data and it performs worse on the test set."
      ]
    },
    {
      "cell_type": "code",
      "execution_count": 29,
      "metadata": {
        "colab": {
          "base_uri": "https://localhost:8080/",
          "height": 564
        },
        "id": "j0AFaLs7ZtTk",
        "outputId": "d744f179-2e5c-4574-d863-0b446dfc22bc"
      },
      "outputs": [
        {
          "data": {
            "image/png": "[encoded data removed]",
            "text/plain": [
              "<Figure size 1000x600 with 1 Axes>"
            ]
          },
          "metadata": {},
          "output_type": "display_data"
        }
      ],
      "source": [
        "import matplotlib.pyplot as plt\n",
        "# Extracting average scores and depths\n",
        "avg_scores = [d['avg_score'] for d in total_scores]\n",
        "depths = range(1, len(avg_scores) + 1)\n",
        "\n",
        "# Plotting\n",
        "plt.figure(figsize=(10, 6))\n",
        "plt.plot(depths, avg_scores)\n",
        "plt.title(\"Average Cross-Validation Score vs. Tree Depth\")\n",
        "plt.xlabel(\"Max Depth of Decision Tree\")\n",
        "plt.ylabel(\"Average Cross-Validation Score\")\n",
        "plt.xticks(depths)\n",
        "plt.show()"
      ]
    },
    {
      "cell_type": "markdown",
      "metadata": {
        "id": "_7OVaZWed2Xd"
      },
      "source": [
        "### Underfitting and overfitting in random forest classifiers\n",
        "\n",
        "We now will perform the same experiment as the one above, but look at a `RandomForestClassifier` with regards to the size of the ensemble, i.e., the `n_estimators` parameter"
      ]
    },
    {
      "cell_type": "code",
      "execution_count": 23,
      "metadata": {},
      "outputs": [
        {
          "data": {
            "image/png": "[encoded data removed]",
            "text/plain": [
              "<Figure size 640x480 with 1 Axes>"
            ]
          },
          "metadata": {},
          "output_type": "display_data"
        }
      ],
      "source": [
        "import numpy as np\n",
        "import matplotlib.pyplot as plt\n",
        "from sklearn.ensemble import RandomForestClassifier\n",
        "from sklearn.feature_extraction import DictVectorizer\n",
        "from sklearn.pipeline import make_pipeline\n",
        "from sklearn.model_selection import cross_val_score\n",
        "total_scores = []\n",
        "\n",
        "for estimators in range(1, 301, 50):\n",
        "    avg_scores = []\n",
        "    depths = []\n",
        "    for depth in range(1, 12):\n",
        "        pipeline = make_pipeline(\n",
        "            DictVectorizer(),\n",
        "            RandomForestClassifier(n_estimators=estimators, max_depth=depth, n_jobs=-1)\n",
        "        )\n",
        "        pipeline.fit(x_train_dict, Y_train_encoded)\n",
        "        scores = cross_val_score(pipeline, x_test_dict, Y_test_encoded, cv=5)\n",
        "        avg_scores.append(np.mean(scores))\n",
        "        depths.append(depth)\n",
        "    total_scores.append({\"estimators\": estimators, \"depths\": depths, \"avg_scores\": avg_scores})\n",
        "\n",
        "for score_data in total_scores:\n",
        "    plt.plot(score_data[\"depths\"], score_data[\"avg_scores\"], label=f\"Estimators: {score_data['estimators']}\")\n",
        "\n",
        "plt.xlabel(\"Max Depth\")\n",
        "plt.ylabel(\"Average Score\")\n",
        "plt.title(\"Average Score vs Max Depth for Different Estimators\")\n",
        "plt.legend()\n",
        "plt.show()"
      ]
    },
    {
      "cell_type": "code",
      "execution_count": 25,
      "metadata": {},
      "outputs": [
        {
          "data": {
            "image/png": "[encoded data removed]",
            "text/plain": [
              "<Figure size 640x480 with 1 Axes>"
            ]
          },
          "metadata": {},
          "output_type": "display_data"
        }
      ],
      "source": [
        "depth_scores = []\n",
        "for depth in range(1,12):\n",
        "  clf = DecisionTreeClassifier(max_depth=depth)\n",
        "  clf.fit(X_train_encoded, Y_train_encoded)\n",
        "  depth_scores.append(clf.score(X_test_encoded, Y_test_encoded))\n",
        "\n",
        "plt.plot(range(1,12), depth_scores)\n",
        "plt.xlabel(\"Max Depth\")\n",
        "plt.ylabel(\"Average Score\")\n",
        "plt.title(\"Average Score vs Max Depth for Different Estimators\")\n",
        "plt.show()"
      ]
    },
    {
      "cell_type": "code",
      "execution_count": 14,
      "metadata": {},
      "outputs": [
        {
          "name": "stdout",
          "output_type": "stream",
          "text": [
            "Random Forest score:  0.799644066569151\n",
            "Decision Tree score:  0.8135249800278969\n"
          ]
        }
      ],
      "source": [
        "from sklearn.ensemble import RandomForestClassifier\n",
        "from sklearn.pipeline import make_pipeline\n",
        "from sklearn.model_selection import cross_val_score\n",
        "import numpy as np\n",
        "from sklearn.feature_extraction import DictVectorizer\n",
        "\n",
        "pipeline = make_pipeline(\n",
        "    DictVectorizer(),\n",
        "    RandomForestClassifier(n_estimators=1, n_jobs=-1)\n",
        ")\n",
        "pipeline.fit(x_train_dict, Y_train_encoded)\n",
        "pipeline_score = cross_val_score(pipeline, x_test_dict, Y_test_encoded, cv=5)\n",
        "print(\"Random Forest score: \", np.mean(pipeline_score))\n",
        "\n",
        "clf = DecisionTreeClassifier()\n",
        "clf.fit(X_train_encoded, Y_train_encoded)\n",
        "dtree_score = cross_val_score(clf, X_test_encoded, Y_test_encoded, cv=5)\n",
        "print(\"Decision Tree score: \", np.mean(dtree_score))"
      ]
    },
    {
      "cell_type": "markdown",
      "metadata": {
        "id": "siBqrnLQh-VZ"
      },
      "source": [
        "What's the difference between the curve for a decision tree and for a random forest with an ensemble size of 1, and why do we see this difference?\n",
        "\n",
        "The decision tree is trained on all the data and features while the RandomForest with an ensemble of size 1 also only has one DecisionTree, that DecisionTree is only trained on a subset of the data and features. This scenario introduces an advantage to the DecisionTree, as it gets to train on a larger dataset, while the RandomForest needs an esemble to produce viable results. If the ensemble is small, it gets no opportunity to improve the model between runs, which is bad since that is the main point of using ensemble models.\n",
        "\n",
        "\n",
        "What happens with the curve for random forests as the ensemble size grows?\n",
        "As the ensemble size grows, the curve goes towards a more stable value that it hovers around for all ensemble sizes. \n",
        "\n",
        "What happens with the best observed test set accuracy as the ensemble size grows?\n",
        "It stays the same, as the ensemble size grows, it does not really get better with a larger ensemble size. There is a large difference between a size of 1 and 50 but between 50 and 300, there is not really any difference. \n",
        "\n",
        "\n",
        "What happens with the training time as the ensemble size grows? The training time increases linearly as the the ensemble size grows."
      ]
    },
    {
      "cell_type": "markdown",
      "metadata": {
        "id": "xOQrrIrWfZQ_"
      },
      "source": [
        "## Task 3"
      ]
    },
    {
      "cell_type": "markdown",
      "metadata": {
        "id": "-QfhhOZmiKXz"
      },
      "source": [
        "We extract the features and sort them descendingly. \n",
        "\n",
        "The most important features seem to be pretty obvious such as age, hours worked per week, capital gain and education. Something interesting though is that a feature such as the workclass never-worked isn't rated as a feature of high importance, because if someone never worked then they probably don't make over 50K a year. But looking at the dataset it only occurred in 7 cases, which probably is not enough to make an impact. \n",
        "\n",
        "Perr et al. (2018) mentions permutation importance as a reliable way to get better and more realistic feature importance values. By removing a feature and see how much the accuracy of the model is changed compared to a baseline, we get a good feel for how important a feature is for predicting a correct result without introducing bias. "
      ]
    },
    {
      "cell_type": "code",
      "execution_count": 41,
      "metadata": {
        "id": "QzsIBe_kfpoz"
      },
      "outputs": [
        {
          "name": "stdout",
          "output_type": "stream",
          "text": [
            "('age', 0.22650482335372668)\n",
            "('hours-per-week', 0.11405905427690158)\n",
            "('capital-gain', 0.10741326458724008)\n",
            "('education-num', 0.0679170161418503)\n",
            "('marital-status=Married-civ-spouse', 0.06431271127986277)\n",
            "('relationship=Husband', 0.04236598787199315)\n",
            "('capital-loss', 0.03553908447317525)\n",
            "('marital-status=Never-married', 0.027952251964743116)\n",
            "('occupation=Exec-managerial', 0.0192584997053966)\n",
            "('occupation=Prof-specialty', 0.015456843855704125)\n",
            "('relationship=Not-in-family', 0.012571910334762619)\n",
            "('education=Bachelors', 0.012187495326396939)\n",
            "('workclass=Private', 0.0114032721696194)\n",
            "('relationship=Wife', 0.010899317538153772)\n",
            "('relationship=Own-child', 0.009942112381965266)\n",
            "('sex=Female', 0.009501746577066688)\n",
            "('sex=Male', 0.009277167656400152)\n",
            "('workclass=Self-emp-not-inc', 0.009243728259439902)\n",
            "('education=HS-grad', 0.008177275848428407)\n",
            "('education=Masters', 0.008168826576437744)\n",
            "('occupation=Other-service', 0.0074759346999885125)\n",
            "('occupation=Sales', 0.007294930212582272)\n",
            "('occupation=Craft-repair', 0.007122673368557891)\n",
            "('race=White', 0.007044530301867334)\n",
            "('native-country=United-States', 0.007030309932404126)\n",
            "('workclass=Self-emp-inc', 0.006966428890784695)\n",
            "('marital-status=Divorced', 0.006667422792504942)\n",
            "('workclass=Local-gov', 0.006328210209333401)\n",
            "('occupation=Adm-clerical', 0.006190610385559037)\n",
            "('relationship=Unmarried', 0.005932030541030631)\n",
            "('education=Some-college', 0.005709717310911428)\n",
            "('workclass=Federal-gov', 0.005699762011028076)\n",
            "('race=Black', 0.005410285594435685)\n",
            "('education=Prof-school', 0.005216632401114599)\n",
            "('workclass=State-gov', 0.005176549092341261)\n",
            "('occupation=Tech-support', 0.005038567664502776)\n",
            "('occupation=Transport-moving', 0.004903914423115045)\n",
            "('occupation=Farming-fishing', 0.004737435127713027)\n",
            "('occupation=Machine-op-inspct', 0.004379768592174486)\n",
            "('education=Doctorate', 0.003804991893412289)\n",
            "('occupation=Handlers-cleaners', 0.0033797322852447496)\n",
            "('occupation=Protective-serv', 0.003355039029763842)\n",
            "('race=Asian-Pac-Islander', 0.0032689543976616824)\n",
            "('education=Assoc-voc', 0.0032504860673048044)\n",
            "('native-country=?', 0.00306472071999411)\n",
            "('education=Assoc-acdm', 0.0026311255749797507)\n",
            "('education=7th-8th', 0.002279313492107072)\n",
            "('education=11th', 0.002219888797025653)\n",
            "('marital-status=Separated', 0.0020301743132902176)\n",
            "('workclass=?', 0.0019673927954865517)\n",
            "('native-country=Mexico', 0.0019625078416241064)\n",
            "('occupation=?', 0.00190934749579367)\n",
            "('marital-status=Widowed', 0.0018019926911757918)\n",
            "('relationship=Other-relative', 0.0017228502300239796)\n",
            "('education=10th', 0.0015657437955737018)\n",
            "('race=Amer-Indian-Eskimo', 0.001551141500795142)\n",
            "('education=9th', 0.0013770253552647784)\n",
            "('native-country=Germany', 0.001253870253882132)\n",
            "('native-country=Canada', 0.0012513815367367809)\n",
            "('native-country=Philippines', 0.0010737811924291488)\n",
            "('native-country=England', 0.0010437178109802309)\n",
            "('marital-status=Married-spouse-absent', 0.0010405480573797373)\n",
            "('race=Other', 0.0009931649068764565)\n",
            "('education=12th', 0.0008827584733554879)\n",
            "('native-country=Italy', 0.0008316901185554063)\n",
            "('native-country=Cuba', 0.0008194930926480985)\n",
            "('native-country=India', 0.0008015788916714728)\n",
            "('education=5th-6th', 0.0007063776725228716)\n",
            "('native-country=South', 0.0006619842543915348)\n",
            "('native-country=Japan', 0.000634024325565747)\n",
            "('native-country=Poland', 0.0005740725094653793)\n",
            "('native-country=Puerto-Rico', 0.0005315688839856483)\n",
            "('native-country=Iran', 0.0005052637686529675)\n",
            "('native-country=China', 0.0005025116509465915)\n",
            "('native-country=Jamaica', 0.00048383623110573743)\n",
            "('marital-status=Married-AF-spouse', 0.0004570912908501752)\n",
            "('native-country=Vietnam', 0.0003741591387890529)\n",
            "('native-country=France', 0.0003606919004155501)\n",
            "('native-country=Greece', 0.00036034321226487636)\n",
            "('native-country=Yugoslavia', 0.0003499971277128866)\n",
            "('native-country=Taiwan', 0.00033203374242764846)\n",
            "('education=1st-4th', 0.00030994140014112666)\n",
            "('native-country=Cambodia', 0.00030749683394100434)\n",
            "('native-country=El-Salvador', 0.0002555517474083202)\n",
            "('native-country=Columbia', 0.00023907913530889138)\n",
            "('native-country=Portugal', 0.00021832255248012655)\n",
            "('native-country=Haiti', 0.00020662899395060093)\n",
            "('native-country=Ireland', 0.0001957951509633958)\n",
            "('native-country=Dominican-Republic', 0.00019112283098303022)\n",
            "('native-country=Hong', 0.0001879299478207719)\n",
            "('native-country=Ecuador', 0.00018300402926398749)\n",
            "('native-country=Hungary', 0.0001505422078365819)\n",
            "('native-country=Guatemala', 0.00013906259791411646)\n",
            "('occupation=Priv-house-serv', 0.00013805461862584825)\n",
            "('native-country=Nicaragua', 0.00011952382363378894)\n",
            "('native-country=Laos', 0.00011571767603887613)\n",
            "('native-country=Peru', 0.00011048770321088072)\n",
            "('native-country=Trinadad&Tobago', 0.00010765845912768175)\n",
            "('native-country=Thailand', 9.057177735971442e-05)\n",
            "('native-country=Scotland', 8.83485449519563e-05)\n",
            "('workclass=Without-pay', 7.14066890300564e-05)\n",
            "('education=Preschool', 6.220301529620797e-05)\n",
            "('native-country=Outlying-US(Guam-USVI-etc)', 3.229052328417341e-05)\n",
            "('occupation=Armed-Forces', 1.881653196988588e-05)\n",
            "('native-country=Honduras', 7.427734258164499e-06)\n",
            "('native-country=Holand-Netherlands', 3.916517320784104e-06)\n",
            "('workclass=Never-worked', 2.6269065327351024e-06)\n"
          ]
        }
      ],
      "source": [
        "dict_vectorizer = pipeline.steps[0][1]\n",
        "features_names = dict_vectorizer.feature_names_\n",
        "\n",
        "clf = pipeline.steps[1][1]\n",
        "feature_importance = clf.feature_importances_\n",
        "\n",
        "features = list(zip(features_names, feature_importance))\n",
        "sorted_features = sorted(features, key=lambda x: x[1], reverse=True)\n",
        "\n",
        "for feature in sorted_features:\n",
        "  print(feature)"
      ]
    }
  ],
  "metadata": {
    "colab": {
      "provenance": []
    },
    "kernelspec": {
      "display_name": "Python 3",
      "name": "python3"
    },
    "language_info": {
      "codemirror_mode": {
        "name": "ipython",
        "version": 3
      },
      "file_extension": ".py",
      "mimetype": "text/x-python",
      "name": "python",
      "nbconvert_exporter": "python",
      "pygments_lexer": "ipython3",
      "version": "3.11.6"
    }
  },
  "nbformat": 4,
  "nbformat_minor": 0
}
